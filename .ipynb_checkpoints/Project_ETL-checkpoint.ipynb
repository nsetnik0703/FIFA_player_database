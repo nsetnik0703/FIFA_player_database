{
 "cells": [
  {
   "cell_type": "code",
   "execution_count": 1,
   "metadata": {},
   "outputs": [],
   "source": [
    "import pandas as pd\n",
    "from sqlalchemy import create_engine\n",
    "import MySQLdb\n",
    "import warnings\n",
    "warnings.filterwarnings(\"ignore\")\n",
    "from config import user_name,password"
   ]
  },
  {
   "cell_type": "code",
   "execution_count": 2,
   "metadata": {},
   "outputs": [
    {
     "ename": "KeyboardInterrupt",
     "evalue": "",
     "output_type": "error",
     "traceback": [
      "\u001b[1;31m---------------------------------------------------------------------------\u001b[0m",
      "\u001b[1;31mKeyboardInterrupt\u001b[0m                         Traceback (most recent call last)",
      "\u001b[1;32m<ipython-input-2-f2dc32502c33>\u001b[0m in \u001b[0;36m<module>\u001b[1;34m\u001b[0m\n\u001b[1;32m----> 1\u001b[1;33m \u001b[0mdf1\u001b[0m\u001b[1;33m=\u001b[0m\u001b[0mpd\u001b[0m\u001b[1;33m.\u001b[0m\u001b[0mread_csv\u001b[0m\u001b[1;33m(\u001b[0m\u001b[1;34m\"CompleteDataset.csv\"\u001b[0m\u001b[1;33m,\u001b[0m\u001b[0mencoding\u001b[0m \u001b[1;33m=\u001b[0m\u001b[1;34m'utf-8'\u001b[0m\u001b[1;33m,\u001b[0m\u001b[0mlow_memory\u001b[0m\u001b[1;33m=\u001b[0m\u001b[1;32mFalse\u001b[0m\u001b[1;33m)\u001b[0m\u001b[1;33m\u001b[0m\u001b[1;33m\u001b[0m\u001b[0m\n\u001b[0m\u001b[0;32m      2\u001b[0m \u001b[0mdf1\u001b[0m\u001b[1;33m.\u001b[0m\u001b[0mhead\u001b[0m\u001b[1;33m(\u001b[0m\u001b[1;33m)\u001b[0m\u001b[1;33m\u001b[0m\u001b[1;33m\u001b[0m\u001b[0m\n",
      "\u001b[1;32mc:\\users\\yumikee\\appdata\\local\\programs\\python\\python37\\lib\\site-packages\\pandas\\io\\parsers.py\u001b[0m in \u001b[0;36mparser_f\u001b[1;34m(filepath_or_buffer, sep, delimiter, header, names, index_col, usecols, squeeze, prefix, mangle_dupe_cols, dtype, engine, converters, true_values, false_values, skipinitialspace, skiprows, skipfooter, nrows, na_values, keep_default_na, na_filter, verbose, skip_blank_lines, parse_dates, infer_datetime_format, keep_date_col, date_parser, dayfirst, iterator, chunksize, compression, thousands, decimal, lineterminator, quotechar, quoting, doublequote, escapechar, comment, encoding, dialect, tupleize_cols, error_bad_lines, warn_bad_lines, delim_whitespace, low_memory, memory_map, float_precision)\u001b[0m\n\u001b[0;32m    700\u001b[0m                     skip_blank_lines=skip_blank_lines)\n\u001b[0;32m    701\u001b[0m \u001b[1;33m\u001b[0m\u001b[0m\n\u001b[1;32m--> 702\u001b[1;33m         \u001b[1;32mreturn\u001b[0m \u001b[0m_read\u001b[0m\u001b[1;33m(\u001b[0m\u001b[0mfilepath_or_buffer\u001b[0m\u001b[1;33m,\u001b[0m \u001b[0mkwds\u001b[0m\u001b[1;33m)\u001b[0m\u001b[1;33m\u001b[0m\u001b[1;33m\u001b[0m\u001b[0m\n\u001b[0m\u001b[0;32m    703\u001b[0m \u001b[1;33m\u001b[0m\u001b[0m\n\u001b[0;32m    704\u001b[0m     \u001b[0mparser_f\u001b[0m\u001b[1;33m.\u001b[0m\u001b[0m__name__\u001b[0m \u001b[1;33m=\u001b[0m \u001b[0mname\u001b[0m\u001b[1;33m\u001b[0m\u001b[1;33m\u001b[0m\u001b[0m\n",
      "\u001b[1;32mc:\\users\\yumikee\\appdata\\local\\programs\\python\\python37\\lib\\site-packages\\pandas\\io\\parsers.py\u001b[0m in \u001b[0;36m_read\u001b[1;34m(filepath_or_buffer, kwds)\u001b[0m\n\u001b[0;32m    433\u001b[0m \u001b[1;33m\u001b[0m\u001b[0m\n\u001b[0;32m    434\u001b[0m     \u001b[1;32mtry\u001b[0m\u001b[1;33m:\u001b[0m\u001b[1;33m\u001b[0m\u001b[1;33m\u001b[0m\u001b[0m\n\u001b[1;32m--> 435\u001b[1;33m         \u001b[0mdata\u001b[0m \u001b[1;33m=\u001b[0m \u001b[0mparser\u001b[0m\u001b[1;33m.\u001b[0m\u001b[0mread\u001b[0m\u001b[1;33m(\u001b[0m\u001b[0mnrows\u001b[0m\u001b[1;33m)\u001b[0m\u001b[1;33m\u001b[0m\u001b[1;33m\u001b[0m\u001b[0m\n\u001b[0m\u001b[0;32m    436\u001b[0m     \u001b[1;32mfinally\u001b[0m\u001b[1;33m:\u001b[0m\u001b[1;33m\u001b[0m\u001b[1;33m\u001b[0m\u001b[0m\n\u001b[0;32m    437\u001b[0m         \u001b[0mparser\u001b[0m\u001b[1;33m.\u001b[0m\u001b[0mclose\u001b[0m\u001b[1;33m(\u001b[0m\u001b[1;33m)\u001b[0m\u001b[1;33m\u001b[0m\u001b[1;33m\u001b[0m\u001b[0m\n",
      "\u001b[1;32mc:\\users\\yumikee\\appdata\\local\\programs\\python\\python37\\lib\\site-packages\\pandas\\io\\parsers.py\u001b[0m in \u001b[0;36mread\u001b[1;34m(self, nrows)\u001b[0m\n\u001b[0;32m   1137\u001b[0m     \u001b[1;32mdef\u001b[0m \u001b[0mread\u001b[0m\u001b[1;33m(\u001b[0m\u001b[0mself\u001b[0m\u001b[1;33m,\u001b[0m \u001b[0mnrows\u001b[0m\u001b[1;33m=\u001b[0m\u001b[1;32mNone\u001b[0m\u001b[1;33m)\u001b[0m\u001b[1;33m:\u001b[0m\u001b[1;33m\u001b[0m\u001b[1;33m\u001b[0m\u001b[0m\n\u001b[0;32m   1138\u001b[0m         \u001b[0mnrows\u001b[0m \u001b[1;33m=\u001b[0m \u001b[0m_validate_integer\u001b[0m\u001b[1;33m(\u001b[0m\u001b[1;34m'nrows'\u001b[0m\u001b[1;33m,\u001b[0m \u001b[0mnrows\u001b[0m\u001b[1;33m)\u001b[0m\u001b[1;33m\u001b[0m\u001b[1;33m\u001b[0m\u001b[0m\n\u001b[1;32m-> 1139\u001b[1;33m         \u001b[0mret\u001b[0m \u001b[1;33m=\u001b[0m \u001b[0mself\u001b[0m\u001b[1;33m.\u001b[0m\u001b[0m_engine\u001b[0m\u001b[1;33m.\u001b[0m\u001b[0mread\u001b[0m\u001b[1;33m(\u001b[0m\u001b[0mnrows\u001b[0m\u001b[1;33m)\u001b[0m\u001b[1;33m\u001b[0m\u001b[1;33m\u001b[0m\u001b[0m\n\u001b[0m\u001b[0;32m   1140\u001b[0m \u001b[1;33m\u001b[0m\u001b[0m\n\u001b[0;32m   1141\u001b[0m         \u001b[1;31m# May alter columns / col_dict\u001b[0m\u001b[1;33m\u001b[0m\u001b[1;33m\u001b[0m\u001b[1;33m\u001b[0m\u001b[0m\n",
      "\u001b[1;32mc:\\users\\yumikee\\appdata\\local\\programs\\python\\python37\\lib\\site-packages\\pandas\\io\\parsers.py\u001b[0m in \u001b[0;36mread\u001b[1;34m(self, nrows)\u001b[0m\n\u001b[0;32m   1993\u001b[0m     \u001b[1;32mdef\u001b[0m \u001b[0mread\u001b[0m\u001b[1;33m(\u001b[0m\u001b[0mself\u001b[0m\u001b[1;33m,\u001b[0m \u001b[0mnrows\u001b[0m\u001b[1;33m=\u001b[0m\u001b[1;32mNone\u001b[0m\u001b[1;33m)\u001b[0m\u001b[1;33m:\u001b[0m\u001b[1;33m\u001b[0m\u001b[1;33m\u001b[0m\u001b[0m\n\u001b[0;32m   1994\u001b[0m         \u001b[1;32mtry\u001b[0m\u001b[1;33m:\u001b[0m\u001b[1;33m\u001b[0m\u001b[1;33m\u001b[0m\u001b[0m\n\u001b[1;32m-> 1995\u001b[1;33m             \u001b[0mdata\u001b[0m \u001b[1;33m=\u001b[0m \u001b[0mself\u001b[0m\u001b[1;33m.\u001b[0m\u001b[0m_reader\u001b[0m\u001b[1;33m.\u001b[0m\u001b[0mread\u001b[0m\u001b[1;33m(\u001b[0m\u001b[0mnrows\u001b[0m\u001b[1;33m)\u001b[0m\u001b[1;33m\u001b[0m\u001b[1;33m\u001b[0m\u001b[0m\n\u001b[0m\u001b[0;32m   1996\u001b[0m         \u001b[1;32mexcept\u001b[0m \u001b[0mStopIteration\u001b[0m\u001b[1;33m:\u001b[0m\u001b[1;33m\u001b[0m\u001b[1;33m\u001b[0m\u001b[0m\n\u001b[0;32m   1997\u001b[0m             \u001b[1;32mif\u001b[0m \u001b[0mself\u001b[0m\u001b[1;33m.\u001b[0m\u001b[0m_first_chunk\u001b[0m\u001b[1;33m:\u001b[0m\u001b[1;33m\u001b[0m\u001b[1;33m\u001b[0m\u001b[0m\n",
      "\u001b[1;32mpandas\\_libs\\parsers.pyx\u001b[0m in \u001b[0;36mpandas._libs.parsers.TextReader.read\u001b[1;34m()\u001b[0m\n",
      "\u001b[1;32mpandas\\_libs\\parsers.pyx\u001b[0m in \u001b[0;36mpandas._libs.parsers.TextReader._read_rows\u001b[1;34m()\u001b[0m\n",
      "\u001b[1;32mpandas\\_libs\\parsers.pyx\u001b[0m in \u001b[0;36mpandas._libs.parsers.TextReader._convert_column_data\u001b[1;34m()\u001b[0m\n",
      "\u001b[1;32mpandas\\_libs\\parsers.pyx\u001b[0m in \u001b[0;36mpandas._libs.parsers.TextReader._convert_tokens\u001b[1;34m()\u001b[0m\n",
      "\u001b[1;32mpandas\\_libs\\parsers.pyx\u001b[0m in \u001b[0;36mpandas._libs.parsers.TextReader._convert_with_dtype\u001b[1;34m()\u001b[0m\n",
      "\u001b[1;32mc:\\users\\yumikee\\appdata\\local\\programs\\python\\python37\\lib\\site-packages\\pandas\\core\\dtypes\\common.py\u001b[0m in \u001b[0;36mis_categorical_dtype\u001b[1;34m(arr_or_dtype)\u001b[0m\n\u001b[0;32m    570\u001b[0m \u001b[1;33m\u001b[0m\u001b[0m\n\u001b[0;32m    571\u001b[0m \u001b[1;33m\u001b[0m\u001b[0m\n\u001b[1;32m--> 572\u001b[1;33m \u001b[1;32mdef\u001b[0m \u001b[0mis_categorical_dtype\u001b[0m\u001b[1;33m(\u001b[0m\u001b[0marr_or_dtype\u001b[0m\u001b[1;33m)\u001b[0m\u001b[1;33m:\u001b[0m\u001b[1;33m\u001b[0m\u001b[1;33m\u001b[0m\u001b[0m\n\u001b[0m\u001b[0;32m    573\u001b[0m     \"\"\"\n\u001b[0;32m    574\u001b[0m     \u001b[0mCheck\u001b[0m \u001b[0mwhether\u001b[0m \u001b[0man\u001b[0m \u001b[0marray\u001b[0m\u001b[1;33m-\u001b[0m\u001b[0mlike\u001b[0m \u001b[1;32mor\u001b[0m \u001b[0mdtype\u001b[0m \u001b[1;32mis\u001b[0m \u001b[0mof\u001b[0m \u001b[0mthe\u001b[0m \u001b[0mCategorical\u001b[0m \u001b[0mdtype\u001b[0m\u001b[1;33m.\u001b[0m\u001b[1;33m\u001b[0m\u001b[1;33m\u001b[0m\u001b[0m\n",
      "\u001b[1;31mKeyboardInterrupt\u001b[0m: "
     ]
    }
   ],
   "source": [
    "df1=pd.read_csv(\"CompleteDataset.csv\",encoding ='utf-8',low_memory=False)\n",
    "df1.head()"
   ]
  },
  {
   "cell_type": "code",
   "execution_count": null,
   "metadata": {},
   "outputs": [],
   "source": [
    "df2=pd.read_csv(\"full_fifa18_data.csv\",encoding ='utf-8')\n",
    "df2.head()"
   ]
  },
  {
   "cell_type": "code",
   "execution_count": null,
   "metadata": {},
   "outputs": [],
   "source": [
    "mergetable=pd.merge(df2,df1, on=\"ID\")\n",
    "mergetable.head(1)"
   ]
  },
  {
   "cell_type": "code",
   "execution_count": null,
   "metadata": {},
   "outputs": [],
   "source": [
    "cols=[\"ID\", \"Name_x\",'full_name','club','league','Nationality' ,'Value (M)','age','Overall_x' ,'Position', 'Acceleration', 'Aggression', 'Agility', 'Balance', 'Ball control',\n",
    "      'Composure', 'Crossing', 'Curve', 'Dribbling', 'Finishing']"
   ]
  },
  {
   "cell_type": "code",
   "execution_count": null,
   "metadata": {},
   "outputs": [],
   "source": [
    "newdf=mergetable[cols].copy()\n",
    "newdf.head(2)"
   ]
  },
  {
   "cell_type": "code",
   "execution_count": null,
   "metadata": {},
   "outputs": [],
   "source": [
    "newdf=newdf.rename(columns={\"ID\":\"FIFA_ID\",\"Name_x\":\"Name\",\"Overall_x\":\"Overall\",\"club\":\"Club\",\"age\":\"Age\",\"league\":\"League\"})\n",
    "newdf.head()"
   ]
  },
  {
   "cell_type": "code",
   "execution_count": null,
   "metadata": {},
   "outputs": [],
   "source": [
    "newdf=newdf[newdf[\"Overall\"]>75]\n",
    "newdf= newdf[~(newdf== \"0\").any(axis=1)]\n",
    "newdf=newdf.drop_duplicates(subset='FIFA_ID', keep=\"last\")\n",
    "newdf"
   ]
  },
  {
   "cell_type": "code",
   "execution_count": null,
   "metadata": {},
   "outputs": [],
   "source": [
    "countryinfo=pd.read_csv(\"all.csv\")\n",
    "countryinfo=countryinfo[[\"country-code\",\"name\", \"region\" ,\"region-code\"]]\n",
    "\n",
    "\n",
    "countryinfo=countryinfo.rename(columns={\"name\":\"Nationality\",\"sub-region\":\"sub_region\",\"country-code\":\"country_code\",\"region-code\":\"region_code\"})\n",
    "countryinfo=countryinfo.dropna()\n",
    "countryinfo[\"region_code\"]=countryinfo[\"region_code\"].astype(int)\n",
    "countryinfo.head(5)"
   ]
  },
  {
   "cell_type": "code",
   "execution_count": null,
   "metadata": {},
   "outputs": [],
   "source": [
    "\n",
    "#Build League Table with unique League_ID\n",
    "\n",
    "League_Table=pd.DataFrame()\n",
    "League_Table[\"League_ID\"]=\"\"\n",
    "League_Table[\"League\"]=newdf[\"League\"].unique()\n",
    "League_Table = League_Table[~(League_Table== \"0\").any(axis=1)]\n",
    "League_Table=League_Table.sort_values(by=\"League\", ascending=True)\n",
    "League_Table=League_Table.reset_index(drop=True)\n",
    "League_Table[\"League_ID\"]=League_Table.index+1\n",
    "League_Table.head()"
   ]
  },
  {
   "cell_type": "code",
   "execution_count": null,
   "metadata": {},
   "outputs": [],
   "source": [
    "\n",
    "\n",
    "#Build League Table with unique League_ID\n",
    "Club_Table=pd.DataFrame()\n",
    "Club_Table[\"Club_ID\"]=\"\"\n",
    "Club_Table[\"Club\"]=newdf[\"Club\"]\n",
    "Club_Table[\"League\"]=newdf[\"League\"]\n",
    "Club_Table=Club_Table.drop_duplicates(subset='Club', keep=\"last\")\n",
    "Club_Table=Club_Table.sort_values(by=\"Club\", ascending=True)\n",
    "Club_Table=Club_Table.reset_index(drop=True)\n",
    "Club_Table[\"Club_ID\"]=Club_Table.index+1\n",
    "Club_Table=pd.merge(Club_Table,League_Table, on=\"League\")\n",
    "Club_Table=Club_Table.drop([\"League\"], axis=1)\n",
    "Club_Table=Club_Table.sort_values(by=\"Club_ID\", ascending=True)\n",
    "Club_Table=Club_Table.reset_index(drop=True)\n",
    "Club_Table.head()"
   ]
  },
  {
   "cell_type": "code",
   "execution_count": null,
   "metadata": {},
   "outputs": [],
   "source": [
    "Key_Stats_Table= newdf[[\"FIFA_ID\",'Overall','Acceleration', 'Aggression', 'Agility', 'Balance', 'Ball control',\n",
    "      'Composure', 'Crossing', 'Curve', 'Dribbling', 'Finishing']]\n",
    "Key_Stats_Table.head()"
   ]
  },
  {
   "cell_type": "code",
   "execution_count": null,
   "metadata": {
    "scrolled": true
   },
   "outputs": [],
   "source": [
    "Nation_Table=newdf[[\"FIFA_ID\",\"Nationality\"]]\n",
    "Nation_Table=pd.merge(Nation_Table,countryinfo, on=\"Nationality\")\n",
    "Nation_Table=Nation_Table.drop([\"region\",\"region_code\"],axis=1)\n",
    "Nation_Table=Nation_Table.reset_index(drop=True)\n",
    "Nation_Table.head()"
   ]
  },
  {
   "cell_type": "code",
   "execution_count": null,
   "metadata": {},
   "outputs": [],
   "source": [
    "Country_Table=countryinfo[[\"country_code\",\"Nationality\",\"region_code\"]]\n",
    "Country_Table.head()"
   ]
  },
  {
   "cell_type": "code",
   "execution_count": null,
   "metadata": {},
   "outputs": [],
   "source": [
    "Region_Table= countryinfo[[\"region_code\",\"region\"]]\n",
    "Region_Table=Region_Table.drop_duplicates(subset='region', keep=\"last\")\n",
    "Region_Table=Region_Table.sort_values(by=\"region_code\", ascending=True)\n",
    "Region_Table=Region_Table.reset_index(drop=True)\n",
    "Region_Table.head()"
   ]
  },
  {
   "cell_type": "code",
   "execution_count": null,
   "metadata": {},
   "outputs": [],
   "source": [
    "General_Info_Table=pd.merge(newdf, Club_Table, on=\"Club\")\n",
    "COLNEED=[\"FIFA_ID\",'Name','Age','Nationality','Value (M)' ,'Club_ID', 'League_ID','Position','Overall']\n",
    "General_Info_Table=General_Info_Table[COLNEED]\n",
    "General_Info_Table=General_Info_Table.sort_values(by=\"Overall\", ascending=False)\n",
    "General_Info_Table.head()\n"
   ]
  },
  {
   "cell_type": "code",
   "execution_count": null,
   "metadata": {},
   "outputs": [],
   "source": [
    "Fullname_Table=newdf[[\"FIFA_ID\",\"full_name\"]]\n",
    "Fullname_Table.head()"
   ]
  },
  {
   "cell_type": "code",
   "execution_count": null,
   "metadata": {},
   "outputs": [],
   "source": [
    "db = MySQLdb.connect(host=\"localhost\",    # your host, usually localhost\n",
    "                     user=f\"{user_name}\",         # your username\n",
    "                     passwd=f\"{password}\",  # your password\n",
    "                     use_unicode=True,\n",
    "                     charset=\"utf8\"\n",
    "                     \n",
    "                        )        # name of the data base\n",
    "cursor = db.cursor()\n",
    "\n",
    "\n",
    "PROJECT_DB=\"ETL_PROJECT_DB\"\n",
    "# Execute SQL select statement\n",
    "cursor.execute(f\"DROP DATABASE {PROJECT_DB}\")\n",
    "\n",
    "cursor.execute(f\"CREATE DATABASE IF NOT EXISTS {PROJECT_DB}\")\n",
    "cursor.close()\n",
    "db = MySQLdb.connect(host=\"localhost\",    # your host, usually localhost\n",
    "                     user=f\"{user_name}\",         # your username\n",
    "                     passwd=f\"{password}\",  # your password\n",
    "                     use_unicode=True,\n",
    "                     charset=\"utf8\",\n",
    "                     database=f\"{PROJECT_DB}\"\n",
    "                        )        # name of the data base\n",
    "cursor = db.cursor()\n",
    "\n"
   ]
  },
  {
   "cell_type": "code",
   "execution_count": null,
   "metadata": {},
   "outputs": [],
   "source": [
    "rds_connection_string = f\"{user_name}:{password}@127.0.0.1/{PROJECT_DB}\"\n",
    "engine = create_engine(f'mysql://{rds_connection_string}?charset=utf8')"
   ]
  },
  {
   "cell_type": "code",
   "execution_count": null,
   "metadata": {},
   "outputs": [],
   "source": [
    "#Pandas Table to SQL making PRMIARY KEY\n",
    "General_Info_Table.to_sql(name='general_info', con=engine, if_exists='replace', index=False)\n",
    "cursor.execute('Alter Table `general_info` ADD PRIMARY KEY (`FIFA_ID`)')\n"
   ]
  },
  {
   "cell_type": "code",
   "execution_count": null,
   "metadata": {},
   "outputs": [],
   "source": [
    "Club_Table.to_sql(name='club', con=engine, if_exists='replace', index=False)\n",
    "cursor.execute('Alter Table `club` ADD PRIMARY KEY (`club_id`)')"
   ]
  },
  {
   "cell_type": "code",
   "execution_count": null,
   "metadata": {},
   "outputs": [],
   "source": [
    "League_Table.to_sql(name='league', con=engine, if_exists='replace', index=False)\n",
    "cursor.execute('Alter Table `league` ADD PRIMARY KEY (`league_id`)')"
   ]
  },
  {
   "cell_type": "code",
   "execution_count": null,
   "metadata": {},
   "outputs": [],
   "source": [
    "Nation_Table.to_sql(name='nationality', con=engine, if_exists='replace', index=False)\n",
    "cursor.execute('Alter Table `nationality` ADD PRIMARY KEY (`fifa_id`)')"
   ]
  },
  {
   "cell_type": "code",
   "execution_count": null,
   "metadata": {},
   "outputs": [],
   "source": [
    "Country_Table.to_sql(name='country', con=engine, if_exists='replace', index=False)\n",
    "cursor.execute('Alter Table `country` ADD PRIMARY KEY (`country_code`)')"
   ]
  },
  {
   "cell_type": "code",
   "execution_count": null,
   "metadata": {},
   "outputs": [],
   "source": [
    "Region_Table.to_sql(name='region', con=engine, if_exists='replace', index=False)\n",
    "cursor.execute('Alter Table `region` ADD PRIMARY KEY (`region_code`)')"
   ]
  },
  {
   "cell_type": "code",
   "execution_count": null,
   "metadata": {},
   "outputs": [],
   "source": [
    "Key_Stats_Table.to_sql(name='key_stats', con=engine, if_exists='replace', index=False)\n",
    "cursor.execute('Alter Table `key_stats` ADD PRIMARY KEY (`fifa_id`)')"
   ]
  },
  {
   "cell_type": "code",
   "execution_count": null,
   "metadata": {},
   "outputs": [],
   "source": [
    "Fullname_Table.to_sql(name='player', con=engine, if_exists='replace', index=False)\n",
    "cursor.execute('Alter Table `player` ADD PRIMARY KEY (`fifa_id`)')"
   ]
  },
  {
   "cell_type": "code",
   "execution_count": null,
   "metadata": {},
   "outputs": [],
   "source": [
    "cursor.execute('ALTER TABLE `general_info` ADD FOREIGN KEY (`club_id`) REFERENCES `club`(`club_id`) ON DELETE CASCADE')\n",
    "\n",
    "cursor.execute('ALTER TABLE `general_info` ADD FOREIGN KEY (`league_id`) REFERENCES `league`(`league_id`) ON DELETE CASCADE')\n",
    "\n",
    "cursor.execute('ALTER TABLE `general_info` ADD FOREIGN KEY (`fifa_id`) REFERENCES `player`(`fifa_id`)  ON DELETE CASCADE')\n",
    "\n",
    "cursor.execute('ALTER TABLE `general_info` ADD FOREIGN KEY (`fifa_id`) REFERENCES `key_stats`(`fifa_id`)  ON DELETE CASCADE')\n",
    "\n",
    "cursor.execute('ALTER TABLE `general_info` ADD FOREIGN KEY (`fifa_id`) REFERENCES `nationality`(`fifa_id`)  ON DELETE CASCADE')\n"
   ]
  },
  {
   "cell_type": "code",
   "execution_count": null,
   "metadata": {},
   "outputs": [],
   "source": [
    "#cursor.execute('ALTER TABLE `general_info` ADD FOREIGN KEY (`league_id`) REFERENCES `league`(`league_id`) ON DELETE CASCADE')\n",
    "\n",
    "#cursor.execute('ALTER TABLE `general_info` ADD FOREIGN KEY (`fifa_id`) REFERENCES `fullname`(`fifa_id`)  ON DELETE CASCADE')\n",
    "\n",
    "#ursor.execute('ALTER TABLE `general_info` ADD FOREIGN KEY (`fifa_id`) REFERENCES `key_stats`(`fifa_id`)  ON DELETE CASCADE')\n",
    "\n",
    "#cursor.execute('ALTER TABLE `general_info` ADD FOREIGN KEY (`fifa_id`) REFERENCES `nationality`(`fifa_id`)  ON DELETE CASCADE')\n"
   ]
  }
 ],
 "metadata": {
  "kernelspec": {
   "display_name": "Python 3",
   "language": "python",
   "name": "python3"
  },
  "language_info": {
   "codemirror_mode": {
    "name": "ipython",
    "version": 3
   },
   "file_extension": ".py",
   "mimetype": "text/x-python",
   "name": "python",
   "nbconvert_exporter": "python",
   "pygments_lexer": "ipython3",
   "version": "3.7.2"
  }
 },
 "nbformat": 4,
 "nbformat_minor": 2
}
